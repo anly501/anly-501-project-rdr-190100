{
 "cells": [
  {
   "cell_type": "raw",
   "metadata": {},
   "source": [
    "---\n",
    "title: \"Record Data Gathering\"\n",
    "author: \"Ramdayal Rewaria\"\n",
    "format:\n",
    "  html:\n",
    "    code-fold: true\n",
    "    theme: darkly\n",
    "---"
   ]
  },
  {
   "cell_type": "markdown",
   "metadata": {},
   "source": [
    "# Data Gathering\n",
    "\n",
    "- Data Gathering and Pre-Processing is a very important step in any Data science project pipeline. It is undeniable that 80% of a data scientist's time and effort is spent in collecting, cleaning and preparing the data for analysis because datasets come in various sizes and are different in nature. It is extremely important for a data scientist to reshape and refine the datasets into usable datasets, which can be leveraged for analytics.\n",
    "- Knowledge is power, information is knowledge, and data is information in digitized form, at least as defined in IT. Hence, data is power. But before you can leverage that data into a successful strategy for your organization or business, you need to gather it. That’s your first step.\n",
    "- Before we define what is data collection, it’s essential to ask the question, “What is data?” The abridged answer is, data is various kinds of information formatted in a particular way. Therefore, data collection is the process of gathering, measuring, and analyzing accurate data from a variety of relevant sources to find answers to research problems, answer questions, evaluate outcomes, and forecast trends and probabilities.\n",
    "- Our society is highly dependent on data, which underscores the importance of collecting it. Accurate data collection is necessary to make informed business decisions, ensure quality assurance, and keep research integrity.\n",
    "- During data collection, the researchers must identify the data types, the sources of data, and what methods are being used. We will soon see that there are many different data collection methods. There is heavy reliance on data collection in research, commercial, and government fields.\n",
    "- `Why Do We Need Data Collection?`\n",
    "    - Before a judge makes a ruling in a court case or a general creates a plan of attack, they must have as many relevant facts as possible. The best courses of action come from informed decisions, and information and data are synonymous.\n",
    "    - The concept of data collection isn’t a new one but the world has changed. There is far more data available today, and it exists in forms that were unheard of a century ago. The data collection process has had to change and grow with the times, keeping pace with technology.\n",
    "    - Whether you’re in the world of academia, trying to conduct research, or part of the commercial sector, thinking of how to promote a new product, you need data collection to help you make better choices.\n",
    "- `What Are the Different Methods of Data Collection?`\n",
    "    - Surveys\n",
    "    - Transactional Tracking\n",
    "    - Interviews and Focus Groups\n",
    "    - Observation\n",
    "    - Online Tracking\n",
    "    - Forms\n",
    "    - Social Media Monitoring\n",
    "    - Application Programming Interface"
   ]
  },
  {
   "cell_type": "markdown",
   "metadata": {},
   "source": [
    "# Application Programming Interface (API)\n",
    "\n",
    "- APIs are mechanisms that enable two software components to communicate with each other using a set of definitions and protocols. For example, the weather bureau’s software system contains daily weather data. The weather app on your phone “talks” to this system via APIs and shows you daily weather updates on your phone.\n",
    "- API stands for Application Programming Interface. In the context of APIs, the word Application refers to any software with a distinct function. Interface can be thought of as a contract of service between two applications. This contract defines how the two communicate with each other using requests and responses. Their API documentation contains information on how developers are to structure those requests and responses.\n",
    "- API architecture is usually explained in terms of client and server. The application sending the request is called the client, and the application sending the response is called the server. So in the weather example, the bureau’s weather database is the server, and the mobile app is the client. \n",
    "- `Type of APIs:`\n",
    "    - **SOAP APIs:** These APIs use Simple Object Access Protocol. Client and server exchange messages using XML. This is a less flexible API that was more popular in the past.\n",
    "    - **RPC APIs:** These APIs are called Remote Procedure Calls. The client completes a function (or procedure) on the server, and the server sends the output back to the client.\n",
    "    - **Websocket APIs:** Websocket API is another modern web API development that uses JSON objects to pass data. A WebSocket API supports two-way communication between client apps and the server. The server can send callback messages to connected clients, making it more efficient than REST API.\n",
    "    - **REST APIs:** These are the most popular and flexible APIs found on the web today. The client sends requests to the server as data. The server uses this client input to start internal functions and returns output data back to the client. Let’s look at REST APIs in more detail below.\n",
    "- `What are REST APIs?`<br>\n",
    "REST stands for Representational State Transfer. REST defines a set of functions like GET, PUT, DELETE, etc. that clients can use to access server data. Clients and servers exchange data using HTTP. The main feature of REST API is statelessness. Statelessness means that servers do not save client data between requests. Client requests to the server are similar to URLs you type in your browser to visit a website. The response from the server is plain data, without the typical graphical rendering of a web page."
   ]
  },
  {
   "cell_type": "markdown",
   "metadata": {},
   "source": [
    "# Import Libraries"
   ]
  },
  {
   "cell_type": "code",
   "execution_count": 2,
   "metadata": {},
   "outputs": [],
   "source": [
    "import requests\n",
    "import pandas as pd\n",
    "import numpy as np\n",
    "import json"
   ]
  },
  {
   "cell_type": "markdown",
   "metadata": {},
   "source": [
    "# Data Extraction from Ergast API\n",
    "- The Ergast Developer API is an experimental web service which provides a historical record of motor racing data for non-commercial purposes. The API provides data for the Formula One series, from the beginning of the world championships in 1950. I used the requests library in python to get the information from this API.\n",
    "- From this API we do not need the entire data as some of it is redundant and are available in every table. We need information about:\n",
    "    - All the Races since 1950 per season.\n",
    "    - All the Qualifiers\n",
    "    - All the Circuits\n",
    "    - All the Driver Standings\n",
    "    - All the Constructor Standings\n",
    "    - All the Seasons"
   ]
  },
  {
   "cell_type": "markdown",
   "metadata": {},
   "source": [
    "## Race Information\n",
    "There are 2 main things in a Formula 1. The first is Season and the second is Round. There are multiple rounds (also called as Races) in every season and every Season happends once a year. The data contains the information about every round of every season such as race name, circuit information, date and the results."
   ]
  },
  {
   "cell_type": "code",
   "execution_count": 3,
   "metadata": {},
   "outputs": [],
   "source": [
    "def get_race_results(url, offset, limit=1000):\n",
    "    \n",
    "    result = requests.get(url + str(limit) + '&offset=' + str(offset))\n",
    "    \n",
    "    return result.json()"
   ]
  },
  {
   "cell_type": "code",
   "execution_count": 4,
   "metadata": {},
   "outputs": [],
   "source": [
    "recent_race_json = get_race_results(url = 'http://ergast.com/api/f1/results.json?limit=', offset = 25000)\n",
    "\n",
    "with open('../../data/00-raw-data/race_data.json', 'w') as outfile:\n",
    "    json.dump(recent_race_json, outfile)"
   ]
  },
  {
   "cell_type": "code",
   "execution_count": 8,
   "metadata": {},
   "outputs": [],
   "source": [
    "def all_races():\n",
    "    \n",
    "    limit = 1000\n",
    "    result = []\n",
    "    length_per_page = []\n",
    "    url = 'http://ergast.com/api/f1/results.json?limit='\n",
    "    \n",
    "    p = 0\n",
    "    \n",
    "    while p < 100:\n",
    "        \n",
    "        page_result_json = get_race_results(url = url, offset = p*1000)\n",
    "        list_per_page = page_result_json['MRData']['RaceTable']['Races']\n",
    "    \n",
    "        if len(list_per_page) == 0:\n",
    "            break\n",
    "        \n",
    "        length_per_page.append(len(list_per_page))\n",
    "        \n",
    "        for i in range(len(list_per_page)):\n",
    "            result.append(list_per_page[i])\n",
    "        \n",
    "        p = p + 1\n",
    "        \n",
    "\n",
    "        \n",
    "    return result, length_per_page"
   ]
  },
  {
   "cell_type": "code",
   "execution_count": 9,
   "metadata": {},
   "outputs": [],
   "source": [
    "result_all_races,length_per_page = all_races()"
   ]
  },
  {
   "cell_type": "code",
   "execution_count": 10,
   "metadata": {},
   "outputs": [],
   "source": [
    "race_result_df = pd.DataFrame(result_all_races)\n",
    "race_result_df.to_csv('../../data/00-raw-data/race_results.csv')"
   ]
  },
  {
   "cell_type": "markdown",
   "metadata": {},
   "source": [
    "## Qualifying Information\n",
    "Before every main Race of a season, there is a Qualifier where each driver races around the whole Circuit to set the fastest lap time. This determines the position that the driver is going to be starting on the Race day. The Qualifiers were fully implemented properly from the 2003 season onwards so there is no data available for seasons before 2003."
   ]
  },
  {
   "cell_type": "code",
   "execution_count": 25,
   "metadata": {},
   "outputs": [],
   "source": [
    "def get_qual_results(url, offset, limit=1000):\n",
    "    \n",
    "    result = requests.get(url + str(limit) + '&offset=' + str(offset))\n",
    "    \n",
    "    return result.json()"
   ]
  },
  {
   "cell_type": "code",
   "execution_count": 40,
   "metadata": {},
   "outputs": [],
   "source": [
    "recent_qual_json = get_qual_results(url = 'http://ergast.com/api/f1/qualifying.json?limit=', offset = 9000)\n",
    "\n",
    "with open('../../data/00-raw-data/qual_data.json', 'w') as outfile:\n",
    "    json.dump(recent_qual_json, outfile)"
   ]
  },
  {
   "cell_type": "code",
   "execution_count": 27,
   "metadata": {},
   "outputs": [],
   "source": [
    "def all_qual():\n",
    "    \n",
    "    limit = 1000\n",
    "    result = []\n",
    "    length_per_page = []\n",
    "    url = 'http://ergast.com/api/f1/qualifying.json?limit='\n",
    "    \n",
    "    p = 0\n",
    "    \n",
    "    while p < 100:\n",
    "        \n",
    "        page_result_json = get_qual_results(url = url, offset = p*1000)\n",
    "        list_per_page = page_result_json['MRData']['RaceTable']['Races']\n",
    "    \n",
    "        if len(list_per_page) == 0:\n",
    "            break\n",
    "        \n",
    "        length_per_page.append(len(list_per_page))\n",
    "        \n",
    "        for i in range(len(list_per_page)):\n",
    "            result.append(list_per_page[i])\n",
    "        \n",
    "        p = p + 1\n",
    "        \n",
    "\n",
    "        \n",
    "    return result, length_per_page"
   ]
  },
  {
   "cell_type": "code",
   "execution_count": 28,
   "metadata": {},
   "outputs": [],
   "source": [
    "result_all_qual,length_per_page = all_qual()"
   ]
  },
  {
   "cell_type": "code",
   "execution_count": 29,
   "metadata": {},
   "outputs": [],
   "source": [
    "qual_result_df = pd.DataFrame(result_all_qual)"
   ]
  },
  {
   "cell_type": "code",
   "execution_count": 36,
   "metadata": {},
   "outputs": [],
   "source": [
    "qual_result_df.to_csv('../../data/00-raw-data/qual_results.csv')"
   ]
  },
  {
   "cell_type": "markdown",
   "metadata": {},
   "source": [
    "## Circuit Information\n",
    "The tracks where each race is conducted on are knows as Circuits. The track owners have to renew their contract each year with the FIA to keep their track as one of the tracks where the Races will be held. The data has columns such as id of the circuit, the location and so on."
   ]
  },
  {
   "cell_type": "code",
   "execution_count": 39,
   "metadata": {},
   "outputs": [],
   "source": [
    "def get_circuit_info(url, offset, limit=1000):\n",
    "    \n",
    "    result = requests.get(url + str(limit) + '&offset=' + str(offset))\n",
    "    \n",
    "    return result.json()"
   ]
  },
  {
   "cell_type": "code",
   "execution_count": 47,
   "metadata": {},
   "outputs": [],
   "source": [
    "circuit_json = get_qual_results(url = 'http://ergast.com/api/f1/circuits.json?limit=', offset = 0)\n",
    "\n",
    "with open('../../data/00-raw-data/circuit_data.json', 'w') as outfile:\n",
    "    json.dump(circuit_json, outfile)"
   ]
  },
  {
   "cell_type": "code",
   "execution_count": 50,
   "metadata": {},
   "outputs": [],
   "source": [
    "circuit_list = circuit_json['MRData']['CircuitTable']['Circuits']"
   ]
  },
  {
   "cell_type": "code",
   "execution_count": 51,
   "metadata": {},
   "outputs": [],
   "source": [
    "circuit_df = pd.DataFrame(circuit_list)"
   ]
  },
  {
   "cell_type": "code",
   "execution_count": 53,
   "metadata": {},
   "outputs": [],
   "source": [
    "circuit_df.to_csv('../../data/00-raw-data/circuit_info.csv')"
   ]
  },
  {
   "cell_type": "markdown",
   "metadata": {},
   "source": [
    "## Driver Standings Information\n",
    "After each Round, points are allocated to winners of the race that follow a set of rules. All the points are combined at the end of every season for the World Driver's Championship. The driver with the highest points wins the WDC. This data contains the standings and points of each driver that competed in each season at the end of season."
   ]
  },
  {
   "cell_type": "code",
   "execution_count": 58,
   "metadata": {},
   "outputs": [],
   "source": [
    "def get_driverstanding_info(url, offset, limit=1000):\n",
    "    \n",
    "    result = requests.get(url + str(limit) + '&offset=' + str(offset))\n",
    "    \n",
    "    return result.json()"
   ]
  },
  {
   "cell_type": "code",
   "execution_count": 59,
   "metadata": {},
   "outputs": [],
   "source": [
    "driverstanding_json = get_driverstanding_info(url = 'http://ergast.com/api/f1/driverStandings.json?limit=', offset = 2000)\n",
    "\n",
    "with open('../../data/00-raw-data/driverstanding_data.json', 'w') as outfile:\n",
    "    json.dump(driverstanding_json, outfile)"
   ]
  },
  {
   "cell_type": "code",
   "execution_count": 67,
   "metadata": {},
   "outputs": [],
   "source": [
    "def all_driverstandings():\n",
    "    \n",
    "    limit = 1000\n",
    "    result = []\n",
    "    length_per_page = []\n",
    "    url = 'http://ergast.com/api/f1/driverStandings.json?limit='\n",
    "    \n",
    "    p = 0\n",
    "    \n",
    "    while p < 100:\n",
    "        \n",
    "        page_result_json = get_driverstanding_info(url = url, offset = p*1000)\n",
    "        list_per_page = page_result_json['MRData']['StandingsTable']['StandingsLists']\n",
    "    \n",
    "        if len(list_per_page) == 0:\n",
    "            break\n",
    "        \n",
    "        length_per_page.append(len(list_per_page))\n",
    "        \n",
    "        for i in range(len(list_per_page)):\n",
    "            result.append(list_per_page[i])\n",
    "        \n",
    "        p = p + 1\n",
    "        \n",
    "\n",
    "        \n",
    "    return result, length_per_page"
   ]
  },
  {
   "cell_type": "code",
   "execution_count": 68,
   "metadata": {},
   "outputs": [],
   "source": [
    "result_all_driverstandings,length_per_page = all_driverstandings()"
   ]
  },
  {
   "cell_type": "code",
   "execution_count": 69,
   "metadata": {},
   "outputs": [],
   "source": [
    "driver_standings_df = pd.DataFrame(result_all_driverstandings)"
   ]
  },
  {
   "cell_type": "code",
   "execution_count": 73,
   "metadata": {},
   "outputs": [],
   "source": [
    "driver_standings_df.to_csv('../../data/00-raw-data/driver_standings.csv')"
   ]
  },
  {
   "cell_type": "markdown",
   "metadata": {},
   "source": [
    "## Constructor Standings\n",
    "A Constructor in F1 is a term for teams. Each constructor has 2 drivers with identical cars competing in a season. At the end of the season the points of both the drivers are combined for the Constructor's Cup. The team with the highest points wins that cup. This data contains the standings and points of every Constructor that competed in each season at the end of season."
   ]
  },
  {
   "cell_type": "code",
   "execution_count": 169,
   "metadata": {},
   "outputs": [],
   "source": [
    "def get_constructorstanding_info(url, offset, limit=1000):\n",
    "    \n",
    "    result = requests.get(url + str(limit) + '&offset=' + str(offset))\n",
    "    \n",
    "    return result.json()"
   ]
  },
  {
   "cell_type": "code",
   "execution_count": 170,
   "metadata": {},
   "outputs": [],
   "source": [
    "constructortanding_json = get_constructorstanding_info(url = 'http://ergast.com/api/f1/constructorStandings.json?limit=', offset = 0)\n",
    "\n",
    "with open('../../data/00-raw-data/constructorstanding_data.json', 'w') as outfile:\n",
    "    json.dump(constructortanding_json, outfile)"
   ]
  },
  {
   "cell_type": "code",
   "execution_count": 173,
   "metadata": {},
   "outputs": [],
   "source": [
    "constructortanding_list = constructortanding_json['MRData']['StandingsTable']['StandingsLists']"
   ]
  },
  {
   "cell_type": "code",
   "execution_count": 175,
   "metadata": {},
   "outputs": [],
   "source": [
    "constructortanding_df = pd.DataFrame(constructortanding_list)"
   ]
  },
  {
   "cell_type": "code",
   "execution_count": 178,
   "metadata": {},
   "outputs": [],
   "source": [
    "constructortanding_df.to_csv('../../data/00-raw-data/constructor_standings.csv')"
   ]
  },
  {
   "cell_type": "markdown",
   "metadata": {},
   "source": [
    "## Season Information\n",
    "Every season there is either new set of drivers or tracks or rules. This data has all the information of the tracks of all the rounds of every season."
   ]
  },
  {
   "cell_type": "code",
   "execution_count": 7,
   "metadata": {},
   "outputs": [],
   "source": [
    "def get_season_info(url, offset, limit=1000):\n",
    "    \n",
    "    result = requests.get(url + str(limit) + '&offset=' + str(offset))\n",
    "    \n",
    "    return result.json()"
   ]
  },
  {
   "cell_type": "code",
   "execution_count": 8,
   "metadata": {},
   "outputs": [],
   "source": [
    "def get_each_season_info(url, offset, season, limit=1000):\n",
    "    \n",
    "    result = requests.get(url + season + '.json?limit=' + str(limit) + '&offset=' + str(offset))\n",
    "    \n",
    "    return result.json()"
   ]
  },
  {
   "cell_type": "code",
   "execution_count": 9,
   "metadata": {},
   "outputs": [],
   "source": [
    "season_json = get_season_info(url = 'http://ergast.com/api/f1/seasons.json?limit=', offset = 0)\n",
    "\n",
    "with open('../../data/00-raw-data/season_data.json', 'w') as outfile:\n",
    "    json.dump(season_json, outfile)"
   ]
  },
  {
   "cell_type": "code",
   "execution_count": 11,
   "metadata": {},
   "outputs": [],
   "source": [
    "season_list = season_json['MRData']['SeasonTable']['Seasons']"
   ]
  },
  {
   "cell_type": "code",
   "execution_count": 12,
   "metadata": {},
   "outputs": [],
   "source": [
    "season_df = pd.DataFrame(season_list)"
   ]
  },
  {
   "cell_type": "code",
   "execution_count": 167,
   "metadata": {},
   "outputs": [],
   "source": [
    "season_df.to_csv('../../data/00-raw-data/season_info.csv')"
   ]
  },
  {
   "cell_type": "code",
   "execution_count": 13,
   "metadata": {},
   "outputs": [],
   "source": [
    "all_season_list = []\n",
    "\n",
    "for i in range(len(season_df)):\n",
    "    \n",
    "    temp_json = get_each_season_info(url = 'http://ergast.com/api/f1/', season = season_df['season'][i], offset = 0)\n",
    "    temp_list = temp_json['MRData']['RaceTable']['Races']\n",
    "    \n",
    "    for j in range(len(temp_list)):\n",
    "        \n",
    "        all_season_list.append(temp_list[j])"
   ]
  },
  {
   "cell_type": "code",
   "execution_count": 14,
   "metadata": {},
   "outputs": [],
   "source": [
    "all_season_df = pd.DataFrame(all_season_list)"
   ]
  },
  {
   "cell_type": "code",
   "execution_count": 15,
   "metadata": {},
   "outputs": [
    {
     "data": {
      "text/html": [
       "<div>\n",
       "<style scoped>\n",
       "    .dataframe tbody tr th:only-of-type {\n",
       "        vertical-align: middle;\n",
       "    }\n",
       "\n",
       "    .dataframe tbody tr th {\n",
       "        vertical-align: top;\n",
       "    }\n",
       "\n",
       "    .dataframe thead th {\n",
       "        text-align: right;\n",
       "    }\n",
       "</style>\n",
       "<table border=\"1\" class=\"dataframe\">\n",
       "  <thead>\n",
       "    <tr style=\"text-align: right;\">\n",
       "      <th></th>\n",
       "      <th>season</th>\n",
       "      <th>round</th>\n",
       "      <th>url</th>\n",
       "      <th>raceName</th>\n",
       "      <th>Circuit</th>\n",
       "      <th>date</th>\n",
       "      <th>time</th>\n",
       "      <th>FirstPractice</th>\n",
       "      <th>SecondPractice</th>\n",
       "      <th>ThirdPractice</th>\n",
       "      <th>Qualifying</th>\n",
       "      <th>Sprint</th>\n",
       "    </tr>\n",
       "  </thead>\n",
       "  <tbody>\n",
       "    <tr>\n",
       "      <th>0</th>\n",
       "      <td>1950</td>\n",
       "      <td>1</td>\n",
       "      <td>http://en.wikipedia.org/wiki/1950_British_Gran...</td>\n",
       "      <td>British Grand Prix</td>\n",
       "      <td>{'circuitId': 'silverstone', 'url': 'http://en...</td>\n",
       "      <td>1950-05-13</td>\n",
       "      <td>NaN</td>\n",
       "      <td>NaN</td>\n",
       "      <td>NaN</td>\n",
       "      <td>NaN</td>\n",
       "      <td>NaN</td>\n",
       "      <td>NaN</td>\n",
       "    </tr>\n",
       "    <tr>\n",
       "      <th>1</th>\n",
       "      <td>1950</td>\n",
       "      <td>2</td>\n",
       "      <td>http://en.wikipedia.org/wiki/1950_Monaco_Grand...</td>\n",
       "      <td>Monaco Grand Prix</td>\n",
       "      <td>{'circuitId': 'monaco', 'url': 'http://en.wiki...</td>\n",
       "      <td>1950-05-21</td>\n",
       "      <td>NaN</td>\n",
       "      <td>NaN</td>\n",
       "      <td>NaN</td>\n",
       "      <td>NaN</td>\n",
       "      <td>NaN</td>\n",
       "      <td>NaN</td>\n",
       "    </tr>\n",
       "    <tr>\n",
       "      <th>2</th>\n",
       "      <td>1950</td>\n",
       "      <td>3</td>\n",
       "      <td>http://en.wikipedia.org/wiki/1950_Indianapolis...</td>\n",
       "      <td>Indianapolis 500</td>\n",
       "      <td>{'circuitId': 'indianapolis', 'url': 'http://e...</td>\n",
       "      <td>1950-05-30</td>\n",
       "      <td>NaN</td>\n",
       "      <td>NaN</td>\n",
       "      <td>NaN</td>\n",
       "      <td>NaN</td>\n",
       "      <td>NaN</td>\n",
       "      <td>NaN</td>\n",
       "    </tr>\n",
       "    <tr>\n",
       "      <th>3</th>\n",
       "      <td>1950</td>\n",
       "      <td>4</td>\n",
       "      <td>http://en.wikipedia.org/wiki/1950_Swiss_Grand_...</td>\n",
       "      <td>Swiss Grand Prix</td>\n",
       "      <td>{'circuitId': 'bremgarten', 'url': 'http://en....</td>\n",
       "      <td>1950-06-04</td>\n",
       "      <td>NaN</td>\n",
       "      <td>NaN</td>\n",
       "      <td>NaN</td>\n",
       "      <td>NaN</td>\n",
       "      <td>NaN</td>\n",
       "      <td>NaN</td>\n",
       "    </tr>\n",
       "    <tr>\n",
       "      <th>4</th>\n",
       "      <td>1950</td>\n",
       "      <td>5</td>\n",
       "      <td>http://en.wikipedia.org/wiki/1950_Belgian_Gran...</td>\n",
       "      <td>Belgian Grand Prix</td>\n",
       "      <td>{'circuitId': 'spa', 'url': 'http://en.wikiped...</td>\n",
       "      <td>1950-06-18</td>\n",
       "      <td>NaN</td>\n",
       "      <td>NaN</td>\n",
       "      <td>NaN</td>\n",
       "      <td>NaN</td>\n",
       "      <td>NaN</td>\n",
       "      <td>NaN</td>\n",
       "    </tr>\n",
       "    <tr>\n",
       "      <th>...</th>\n",
       "      <td>...</td>\n",
       "      <td>...</td>\n",
       "      <td>...</td>\n",
       "      <td>...</td>\n",
       "      <td>...</td>\n",
       "      <td>...</td>\n",
       "      <td>...</td>\n",
       "      <td>...</td>\n",
       "      <td>...</td>\n",
       "      <td>...</td>\n",
       "      <td>...</td>\n",
       "      <td>...</td>\n",
       "    </tr>\n",
       "    <tr>\n",
       "      <th>1074</th>\n",
       "      <td>2022</td>\n",
       "      <td>18</td>\n",
       "      <td>http://en.wikipedia.org/wiki/2022_Japanese_Gra...</td>\n",
       "      <td>Japanese Grand Prix</td>\n",
       "      <td>{'circuitId': 'suzuka', 'url': 'http://en.wiki...</td>\n",
       "      <td>2022-10-09</td>\n",
       "      <td>05:00:00Z</td>\n",
       "      <td>{'date': '2022-10-07', 'time': '03:00:00Z'}</td>\n",
       "      <td>{'date': '2022-10-07', 'time': '06:00:00Z'}</td>\n",
       "      <td>{'date': '2022-10-08', 'time': '03:00:00Z'}</td>\n",
       "      <td>{'date': '2022-10-08', 'time': '06:00:00Z'}</td>\n",
       "      <td>NaN</td>\n",
       "    </tr>\n",
       "    <tr>\n",
       "      <th>1075</th>\n",
       "      <td>2022</td>\n",
       "      <td>19</td>\n",
       "      <td>http://en.wikipedia.org/wiki/2022_United_State...</td>\n",
       "      <td>United States Grand Prix</td>\n",
       "      <td>{'circuitId': 'americas', 'url': 'http://en.wi...</td>\n",
       "      <td>2022-10-23</td>\n",
       "      <td>19:00:00Z</td>\n",
       "      <td>{'date': '2022-10-21', 'time': '19:00:00Z'}</td>\n",
       "      <td>{'date': '2022-10-21', 'time': '22:00:00Z'}</td>\n",
       "      <td>{'date': '2022-10-22', 'time': '19:00:00Z'}</td>\n",
       "      <td>{'date': '2022-10-22', 'time': '22:00:00Z'}</td>\n",
       "      <td>NaN</td>\n",
       "    </tr>\n",
       "    <tr>\n",
       "      <th>1076</th>\n",
       "      <td>2022</td>\n",
       "      <td>20</td>\n",
       "      <td>http://en.wikipedia.org/wiki/2022_Mexican_Gran...</td>\n",
       "      <td>Mexico City Grand Prix</td>\n",
       "      <td>{'circuitId': 'rodriguez', 'url': 'http://en.w...</td>\n",
       "      <td>2022-10-30</td>\n",
       "      <td>20:00:00Z</td>\n",
       "      <td>{'date': '2022-10-28', 'time': '18:00:00Z'}</td>\n",
       "      <td>{'date': '2022-10-28', 'time': '21:00:00Z'}</td>\n",
       "      <td>{'date': '2022-10-29', 'time': '17:00:00Z'}</td>\n",
       "      <td>{'date': '2022-10-29', 'time': '20:00:00Z'}</td>\n",
       "      <td>NaN</td>\n",
       "    </tr>\n",
       "    <tr>\n",
       "      <th>1077</th>\n",
       "      <td>2022</td>\n",
       "      <td>21</td>\n",
       "      <td>http://en.wikipedia.org/wiki/2022_Brazilian_Gr...</td>\n",
       "      <td>Brazilian Grand Prix</td>\n",
       "      <td>{'circuitId': 'interlagos', 'url': 'http://en....</td>\n",
       "      <td>2022-11-13</td>\n",
       "      <td>18:00:00Z</td>\n",
       "      <td>{'date': '2022-11-11', 'time': '15:30:00Z'}</td>\n",
       "      <td>{'date': '2022-11-12', 'time': '15:30:00Z'}</td>\n",
       "      <td>NaN</td>\n",
       "      <td>{'date': '2022-11-11', 'time': '19:00:00Z'}</td>\n",
       "      <td>{'date': '2022-11-12', 'time': '19:30:00Z'}</td>\n",
       "    </tr>\n",
       "    <tr>\n",
       "      <th>1078</th>\n",
       "      <td>2022</td>\n",
       "      <td>22</td>\n",
       "      <td>http://en.wikipedia.org/wiki/2022_Abu_Dhabi_Gr...</td>\n",
       "      <td>Abu Dhabi Grand Prix</td>\n",
       "      <td>{'circuitId': 'yas_marina', 'url': 'http://en....</td>\n",
       "      <td>2022-11-20</td>\n",
       "      <td>13:00:00Z</td>\n",
       "      <td>{'date': '2022-11-18', 'time': '10:00:00Z'}</td>\n",
       "      <td>{'date': '2022-11-18', 'time': '13:00:00Z'}</td>\n",
       "      <td>{'date': '2022-11-19', 'time': '11:00:00Z'}</td>\n",
       "      <td>{'date': '2022-11-19', 'time': '14:00:00Z'}</td>\n",
       "      <td>NaN</td>\n",
       "    </tr>\n",
       "  </tbody>\n",
       "</table>\n",
       "<p>1079 rows × 12 columns</p>\n",
       "</div>"
      ],
      "text/plain": [
       "     season round                                                url  \\\n",
       "0      1950     1  http://en.wikipedia.org/wiki/1950_British_Gran...   \n",
       "1      1950     2  http://en.wikipedia.org/wiki/1950_Monaco_Grand...   \n",
       "2      1950     3  http://en.wikipedia.org/wiki/1950_Indianapolis...   \n",
       "3      1950     4  http://en.wikipedia.org/wiki/1950_Swiss_Grand_...   \n",
       "4      1950     5  http://en.wikipedia.org/wiki/1950_Belgian_Gran...   \n",
       "...     ...   ...                                                ...   \n",
       "1074   2022    18  http://en.wikipedia.org/wiki/2022_Japanese_Gra...   \n",
       "1075   2022    19  http://en.wikipedia.org/wiki/2022_United_State...   \n",
       "1076   2022    20  http://en.wikipedia.org/wiki/2022_Mexican_Gran...   \n",
       "1077   2022    21  http://en.wikipedia.org/wiki/2022_Brazilian_Gr...   \n",
       "1078   2022    22  http://en.wikipedia.org/wiki/2022_Abu_Dhabi_Gr...   \n",
       "\n",
       "                      raceName  \\\n",
       "0           British Grand Prix   \n",
       "1            Monaco Grand Prix   \n",
       "2             Indianapolis 500   \n",
       "3             Swiss Grand Prix   \n",
       "4           Belgian Grand Prix   \n",
       "...                        ...   \n",
       "1074       Japanese Grand Prix   \n",
       "1075  United States Grand Prix   \n",
       "1076    Mexico City Grand Prix   \n",
       "1077      Brazilian Grand Prix   \n",
       "1078      Abu Dhabi Grand Prix   \n",
       "\n",
       "                                                Circuit        date  \\\n",
       "0     {'circuitId': 'silverstone', 'url': 'http://en...  1950-05-13   \n",
       "1     {'circuitId': 'monaco', 'url': 'http://en.wiki...  1950-05-21   \n",
       "2     {'circuitId': 'indianapolis', 'url': 'http://e...  1950-05-30   \n",
       "3     {'circuitId': 'bremgarten', 'url': 'http://en....  1950-06-04   \n",
       "4     {'circuitId': 'spa', 'url': 'http://en.wikiped...  1950-06-18   \n",
       "...                                                 ...         ...   \n",
       "1074  {'circuitId': 'suzuka', 'url': 'http://en.wiki...  2022-10-09   \n",
       "1075  {'circuitId': 'americas', 'url': 'http://en.wi...  2022-10-23   \n",
       "1076  {'circuitId': 'rodriguez', 'url': 'http://en.w...  2022-10-30   \n",
       "1077  {'circuitId': 'interlagos', 'url': 'http://en....  2022-11-13   \n",
       "1078  {'circuitId': 'yas_marina', 'url': 'http://en....  2022-11-20   \n",
       "\n",
       "           time                                FirstPractice  \\\n",
       "0           NaN                                          NaN   \n",
       "1           NaN                                          NaN   \n",
       "2           NaN                                          NaN   \n",
       "3           NaN                                          NaN   \n",
       "4           NaN                                          NaN   \n",
       "...         ...                                          ...   \n",
       "1074  05:00:00Z  {'date': '2022-10-07', 'time': '03:00:00Z'}   \n",
       "1075  19:00:00Z  {'date': '2022-10-21', 'time': '19:00:00Z'}   \n",
       "1076  20:00:00Z  {'date': '2022-10-28', 'time': '18:00:00Z'}   \n",
       "1077  18:00:00Z  {'date': '2022-11-11', 'time': '15:30:00Z'}   \n",
       "1078  13:00:00Z  {'date': '2022-11-18', 'time': '10:00:00Z'}   \n",
       "\n",
       "                                   SecondPractice  \\\n",
       "0                                             NaN   \n",
       "1                                             NaN   \n",
       "2                                             NaN   \n",
       "3                                             NaN   \n",
       "4                                             NaN   \n",
       "...                                           ...   \n",
       "1074  {'date': '2022-10-07', 'time': '06:00:00Z'}   \n",
       "1075  {'date': '2022-10-21', 'time': '22:00:00Z'}   \n",
       "1076  {'date': '2022-10-28', 'time': '21:00:00Z'}   \n",
       "1077  {'date': '2022-11-12', 'time': '15:30:00Z'}   \n",
       "1078  {'date': '2022-11-18', 'time': '13:00:00Z'}   \n",
       "\n",
       "                                    ThirdPractice  \\\n",
       "0                                             NaN   \n",
       "1                                             NaN   \n",
       "2                                             NaN   \n",
       "3                                             NaN   \n",
       "4                                             NaN   \n",
       "...                                           ...   \n",
       "1074  {'date': '2022-10-08', 'time': '03:00:00Z'}   \n",
       "1075  {'date': '2022-10-22', 'time': '19:00:00Z'}   \n",
       "1076  {'date': '2022-10-29', 'time': '17:00:00Z'}   \n",
       "1077                                          NaN   \n",
       "1078  {'date': '2022-11-19', 'time': '11:00:00Z'}   \n",
       "\n",
       "                                       Qualifying  \\\n",
       "0                                             NaN   \n",
       "1                                             NaN   \n",
       "2                                             NaN   \n",
       "3                                             NaN   \n",
       "4                                             NaN   \n",
       "...                                           ...   \n",
       "1074  {'date': '2022-10-08', 'time': '06:00:00Z'}   \n",
       "1075  {'date': '2022-10-22', 'time': '22:00:00Z'}   \n",
       "1076  {'date': '2022-10-29', 'time': '20:00:00Z'}   \n",
       "1077  {'date': '2022-11-11', 'time': '19:00:00Z'}   \n",
       "1078  {'date': '2022-11-19', 'time': '14:00:00Z'}   \n",
       "\n",
       "                                           Sprint  \n",
       "0                                             NaN  \n",
       "1                                             NaN  \n",
       "2                                             NaN  \n",
       "3                                             NaN  \n",
       "4                                             NaN  \n",
       "...                                           ...  \n",
       "1074                                          NaN  \n",
       "1075                                          NaN  \n",
       "1076                                          NaN  \n",
       "1077  {'date': '2022-11-12', 'time': '19:30:00Z'}  \n",
       "1078                                          NaN  \n",
       "\n",
       "[1079 rows x 12 columns]"
      ]
     },
     "execution_count": 15,
     "metadata": {},
     "output_type": "execute_result"
    }
   ],
   "source": [
    "all_season_df"
   ]
  },
  {
   "cell_type": "code",
   "execution_count": 166,
   "metadata": {},
   "outputs": [],
   "source": [
    "all_season_df.to_csv('../../data/00-raw-data/all_season_info.csv')"
   ]
  }
 ],
 "metadata": {
  "kernelspec": {
   "display_name": "Python 3.10.4 ('ANLY501')",
   "language": "python",
   "name": "python3"
  },
  "language_info": {
   "codemirror_mode": {
    "name": "ipython",
    "version": 3
   },
   "file_extension": ".py",
   "mimetype": "text/x-python",
   "name": "python",
   "nbconvert_exporter": "python",
   "pygments_lexer": "ipython3",
   "version": "3.10.4"
  },
  "orig_nbformat": 4,
  "vscode": {
   "interpreter": {
    "hash": "a3560e811cddd8e9b8e26d46e82b5ebd764d1b61f7e9403d6fcc054dbf5a890c"
   }
  }
 },
 "nbformat": 4,
 "nbformat_minor": 2
}
